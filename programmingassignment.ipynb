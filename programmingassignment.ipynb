{
 "cells": [
  {
   "cell_type": "markdown",
   "id": "d3f4b080-c2b9-4b19-8485-1c0ebb613898",
   "metadata": {},
   "source": [
    "Python assignment 1 - Alphabet Soup \n"
   ]
  },
  {
   "cell_type": "code",
   "execution_count": 11,
   "id": "59094596-8968-481c-a18d-37ac858489c2",
   "metadata": {},
   "outputs": [
    {
     "name": "stdout",
     "output_type": "stream",
     "text": [
      "ehllo\n",
      "acehkr\n",
      "Ceehlsy\n"
     ]
    }
   ],
   "source": [
    "def alphabet_soup(s):\n",
    "    return \"\".join(sorted(s))\n",
    "\n",
    "# Examples\n",
    "print(alphabet_soup(\"hello\"))   # ehllo\n",
    "print(alphabet_soup(\"hacker\"))  # acehkr\n",
    "print(alphabet_soup(\"Chelsey\")) #Ceehlsy"
   ]
  },
  {
   "cell_type": "markdown",
   "id": "2ee9bebf-1b1d-4ee9-852f-9904b170f342",
   "metadata": {},
   "source": [
    "Python assignment 1 - Emoticon"
   ]
  },
  {
   "cell_type": "code",
   "execution_count": 23,
   "id": "07cfc5e1-2024-471e-84b9-a299f1300b32",
   "metadata": {},
   "outputs": [
    {
     "name": "stdout",
     "output_type": "stream",
     "text": [
      "Make me :)\n",
      "I am >:(\n",
      "Feeling :(( today\n",
      "Big :D\n"
     ]
    }
   ],
   "source": [
    "def emotify(sentence):\n",
    "    replacements = {\n",
    "        \"smile\": \":)\",\n",
    "        \"grin\": \":D\",\n",
    "        \"sad\": \":((\",\n",
    "        \"mad\": \">:(\"\n",
    "    }\n",
    "    \n",
    "    # Replace each word in the sentence if it matches\n",
    "    for word, emoticon in replacements.items():\n",
    "        sentence = sentence.replace(word, emoticon)\n",
    "    \n",
    "    return sentence\n",
    "\n",
    "\n",
    "# Examples:\n",
    "print(emotify(\"Make me smile\"))   # Make me :)\n",
    "print(emotify(\"I am mad\"))        # I am >:(\n",
    "print(emotify(\"Feeling sad today\"))  # Feeling :(( today\n",
    "print(emotify(\"Big grin\"))        # Big :D\n"
   ]
  },
  {
   "cell_type": "markdown",
   "id": "faa2ff8c-5dde-4f50-b1f8-ac3120281cc3",
   "metadata": {},
   "source": [
    "Python assignment 1 - Unpacking "
   ]
  },
  {
   "cell_type": "code",
   "execution_count": 25,
   "id": "ae04a217-6484-43a9-89eb-dd0441360e80",
   "metadata": {},
   "outputs": [
    {
     "name": "stdout",
     "output_type": "stream",
     "text": [
      "first: 1   middle: [2, 3, 4, 5]   last: 6\n"
     ]
    }
   ],
   "source": [
    "lst = [1, 2, 3, 4, 5, 6]\n",
    "\n",
    "first, *middle, last = lst   # unpacking\n",
    "\n",
    "print(\"first:\", first, \"  middle:\", middle, \"  last:\", last)\n"
   ]
  },
  {
   "cell_type": "code",
   "execution_count": null,
   "id": "39bcd719-2071-4ada-9108-7b13c5f05ae2",
   "metadata": {},
   "outputs": [],
   "source": []
  }
 ],
 "metadata": {
  "kernelspec": {
   "display_name": "Python [conda env:base] *",
   "language": "python",
   "name": "conda-base-py"
  },
  "language_info": {
   "codemirror_mode": {
    "name": "ipython",
    "version": 3
   },
   "file_extension": ".py",
   "mimetype": "text/x-python",
   "name": "python",
   "nbconvert_exporter": "python",
   "pygments_lexer": "ipython3",
   "version": "3.13.5"
  }
 },
 "nbformat": 4,
 "nbformat_minor": 5
}
